{
 "cells": [
  {
   "cell_type": "code",
   "execution_count": 31,
   "id": "797094db",
   "metadata": {},
   "outputs": [],
   "source": [
    "import numpy as np\n",
    "import pandas as pd\n",
    "\n",
    "from sklearn.model_selection import train_test_split\n",
    "from sklearn.preprocessing import OneHotEncoder\n",
    "\n",
    "from torch import nn,optim\n",
    "import torch\n",
    "\n",
    "import algo\n",
    "import scripts\n",
    "import attack\n",
    "\n",
    "import matplotlib.pyplot as plt\n",
    "import json \n",
    "\n",
    "import os\n",
    "\n",
    "import random\n",
    "\n"
   ]
  },
  {
   "cell_type": "code",
   "execution_count": 32,
   "id": "bd54f932",
   "metadata": {},
   "outputs": [],
   "source": [
    "# purchase\n",
    "rand_seed=42\n",
    "np.random.seed(rand_seed)\n",
    "torch.manual_seed(rand_seed)\n",
    "random.seed(rand_seed)\n",
    "\n",
    "x_target_train = np.load('data/rs'+str(rand_seed)+'_x_target_train.npy')\n",
    "y_target_train = np.load('data/rs'+str(rand_seed)+'_y_target_train.npy')\n",
    "x_target_test = np.load('data/rs'+str(rand_seed)+'_x_target_test.npy')\n",
    "y_target_test = np.load('data/rs'+str(rand_seed)+'_y_target_test.npy')\n",
    "n_classes = len(np.unique(y_target_train))\n",
    "X_train_size = x_target_train.shape[0]\n",
    "X_test_size = x_target_test.shape[0]\n"
   ]
  },
  {
   "cell_type": "code",
   "execution_count": null,
   "id": "c7ce589d",
   "metadata": {},
   "outputs": [],
   "source": [
    "# attack models\n",
    "from torch import nn\n",
    "\n",
    "class Net_attack(nn.Module):\n",
    "\n",
    "    def __init__(self, h_neurons, do, input_size):\n",
    "        super(Net_attack, self).__init__()\n",
    "        self.input_size = input_size\n",
    "        self.h_neurons = h_neurons\n",
    "        self.do = do\n",
    "        self.fc1 = nn.Linear(input_size, h_neurons)\n",
    "        self.fc2 = nn.Linear(h_neurons, 2)\n",
    "        self.relu = nn.ReLU()\n",
    "        self.drop = nn.Dropout(do)\n",
    "        self.softmax = nn.Softmax(dim=1)   \n",
    "\n",
    "    def forward(self, x):\n",
    "        x = x.view(-1, self.input_size)\n",
    "        x = self.fc1(x)\n",
    "        x = self.relu(x)\n",
    "        x = self.fc2(x)\n",
    "        x = self.drop(x)\n",
    "        x = self.softmax(x)\n",
    "        return x\n",
    "\n",
    "path = 'mia'\n",
    "ams = {}\n",
    "for r,d,f in os.walk(path):\n",
    "    for file in f:\n",
    "        if \"best_mi_model\" in file:\n",
    "            ams[file] = Net_attack(h_neurons=64, do=0, input_size=200)\n",
    "            ams[file] = torch.load(r+'/'+file)      "
   ]
  },
  {
   "cell_type": "code",
   "execution_count": 4,
   "id": "e63abcc0",
   "metadata": {},
   "outputs": [
    {
     "name": "stdout",
     "output_type": "stream",
     "text": [
      "The accuracy of the model : 82.69999999999999 %\n",
      "The accuracy of the model : 52.6 %\n",
      "The accuracy of the model : 77.5 %\n",
      "The accuracy of the model : 48.6 %\n"
     ]
    }
   ],
   "source": [
    "#Load model and parameters\n",
    "file = 'tm/rs42_lr0.001_iter100_reg0.005_DPFalse_target_model_params.json'\n",
    "with open(file) as json_file:\n",
    "    tm_params = json.load(json_file)\n",
    "            \n",
    "# x_target_train, y_target_train, x_target_test, y_target_test = attack.data_shuffle(rand_seed, X_raw, y_raw)\n",
    "target_model = algo.LogisticRegression_DPSGD()\n",
    "scripts.set_model_params(target_model, tm_params)\n",
    "target_model.theta = np.load('tm/rs42_lr0.001_iter100_reg0.005_DPFalse_target_model.npy')\n",
    "target_model.evaluate(x_target_train, y_target_train, acc=True)\n",
    "target_model.evaluate(x_target_test, y_target_test, acc=True)\n",
    "\n",
    "#Output DP\n",
    "noise_model = scripts.output_DP(target_model, epsilon_out_DP=10, delta_out_DP=1e-5, X_train_size=X_train_size)\n",
    "noise_model.train_acc = noise_model.evaluate(x_target_train, y_target_train, acc=True)\n",
    "noise_model.test_acc = noise_model.evaluate(x_target_test, y_target_test, acc=True)\n",
    "    \n",
    "    "
   ]
  },
  {
   "cell_type": "markdown",
   "id": "514223da",
   "metadata": {},
   "source": [
    "# FL output DP"
   ]
  },
  {
   "cell_type": "code",
   "execution_count": 5,
   "id": "2a9f1863",
   "metadata": {},
   "outputs": [],
   "source": [
    "path = 'fl'\n",
    "params = {}\n",
    "results = {}\n",
    "models = {}\n",
    "for r,d,f in os.walk(path):\n",
    "    for file in f:\n",
    "        if \"params.json\" in file:\n",
    "            with open(r+'/'+file) as json_file:\n",
    "                params[r] = json.load(json_file)\n",
    "        elif \"results.csv\" in file:\n",
    "            results[r] = pd.read_csv(r+'/'+file)\n",
    "            it = []\n",
    "            client = []\n",
    "            for k in results[r]['Unnamed: 0']:\n",
    "                it.append(k[k.find('i')+1:k.find('_')])\n",
    "                client.append(k[k.find('_')+1:])\n",
    "            results[r]['it'] = it\n",
    "            results[r]['client'] = client\n",
    "        elif '.npy' in file:\n",
    "            if r not in models:\n",
    "                models[r] = {}\n",
    "            models[r][file] = np.load(r+'/'+file)\n",
    "\n"
   ]
  },
  {
   "cell_type": "code",
   "execution_count": 6,
   "id": "d1039c4f",
   "metadata": {},
   "outputs": [],
   "source": [
    "fl_file = 'fl/rs42_ncl2_fiter5_lr0.001_iter100_reg1e-05_DPFalse'\n",
    "# results[fl_file]"
   ]
  },
  {
   "cell_type": "code",
   "execution_count": 69,
   "id": "aade4868",
   "metadata": {},
   "outputs": [],
   "source": [
    "np.random.seed(rand_seed)\n",
    "torch.manual_seed(rand_seed)\n",
    "random.seed(rand_seed)\n",
    "\n",
    "epsilon_out_dp = 10\n",
    "\n",
    "number_of_clients = len(results[fl_file]['client'].unique())-1\n",
    "data_per_client = int(x_target_train.shape[0]/number_of_clients)\n",
    "clients = results[fl_file]['client'].unique()\n",
    "fl0 = {}\n",
    "fl0_out_dp = {}\n",
    "\n",
    "for i,c in enumerate(clients):\n",
    "    fl0[c] = algo.LogisticRegression_DPSGD()\n",
    "    scripts.set_model_params(fl0[c], params[fl_file])\n",
    "    if c == 'g':\n",
    "        fl0[c].x = x_target_train\n",
    "        fl0[c].y = y_target_train\n",
    "        fl0[c].theta = models[fl_file][f'i0_{c}.npy']\n",
    "        fl0_out_dp[c] = algo.LogisticRegression_DPSGD()\n",
    "        scripts.set_model_params(fl0_out_dp[c], fl0_out_dp['c0'].__dict__)\n",
    "        fl0_out_dp[c].theta = sum([fl0_out_dp[c].theta for c in fl0_out_dp if c!='g'])/number_of_clients\n",
    "    else:\n",
    "        fl0[c].x = x_target_train[i*data_per_client:(i+1)*data_per_client]\n",
    "        fl0[c].y = y_target_train[i*data_per_client:(i+1)*data_per_client]\n",
    "        fl0[c].theta = models[fl_file][f'i0_{c}.npy']\n",
    "        fl0_out_dp[c] = scripts.output_DP(target_model, fl0[c].x.shape[0], epsilon_out_dp)\n",
    "    fl0_out_dp[c].train_acc = fl0[c].evaluate(fl0[c].x, fl0[c].y)\n",
    "    fl0_out_dp[c].test_acc = fl0[c].evaluate(x_target_test, y_target_test)\n",
    "    fl0_out_dp[c].out_dp_train_acc = fl0_out_dp[c].evaluate(fl0[c].x, fl0[c].y)\n",
    "    fl0_out_dp[c].out_dp_test_acc = fl0_out_dp[c].evaluate(x_target_test, y_target_test)\n",
    "    fl0_out_dp[c].mi_attack = attack.test_mi_attack(ams, fl0[c], fl0[c].x, fl0[c].y, x_target_test, y_target_test)\n",
    "    fl0_out_dp[c].out_dp_mi_attack = attack.test_mi_attack(ams, fl0_out_dp[c], fl0[c].x, fl0[c].y, x_target_test, y_target_test)"
   ]
  },
  {
   "cell_type": "code",
   "execution_count": 70,
   "id": "11a7336b",
   "metadata": {},
   "outputs": [
    {
     "name": "stdout",
     "output_type": "stream",
     "text": [
      "0.7522222222222221\n",
      "0.6544888888888889\n",
      "0.7507666666666667\n",
      "0.6601\n",
      "0.5042333333333334\n",
      "0.6302333333333333\n"
     ]
    }
   ],
   "source": [
    "for c in fl0_out_dp:\n",
    "    pars = fl0_out_dp[c].__dict__\n",
    "    print(pars['mi_attack']['attack_acc_mean'])\n",
    "    print(pars['out_dp_mi_attack']['attack_acc_mean'])\n",
    "#     print(pars['theta'][0][0])"
   ]
  },
  {
   "cell_type": "code",
   "execution_count": 68,
   "id": "5df093ec",
   "metadata": {},
   "outputs": [
    {
     "name": "stdout",
     "output_type": "stream",
     "text": [
      "0.7522222222222221\n",
      "0.5787444444444444\n",
      "0.7507666666666667\n",
      "0.5489666666666667\n",
      "0.5042333333333334\n",
      "0.5033416666666667\n"
     ]
    }
   ],
   "source": [
    "for c in fl0_out_dp:\n",
    "    pars = fl0_out_dp[c].__dict__\n",
    "    print(pars['mi_attack']['attack_acc_mean'])\n",
    "    print(pars['out_dp_mi_attack']['attack_acc_mean'])\n",
    "#     print(pars['theta'][0][0])"
   ]
  },
  {
   "cell_type": "code",
   "execution_count": 53,
   "id": "b0058fa8",
   "metadata": {},
   "outputs": [
    {
     "ename": "SyntaxError",
     "evalue": "invalid syntax. Perhaps you forgot a comma? (925288418.py, line 1)",
     "output_type": "error",
     "traceback": [
      "\u001b[0;36m  Input \u001b[0;32mIn [53]\u001b[0;36m\u001b[0m\n\u001b[0;31m    fl0_out_dp[c].__dict__[''theta'']\u001b[0m\n\u001b[0m                           ^\u001b[0m\n\u001b[0;31mSyntaxError\u001b[0m\u001b[0;31m:\u001b[0m invalid syntax. Perhaps you forgot a comma?\n"
     ]
    }
   ],
   "source": [
    "fl0_out_dp[c].__dict__['']"
   ]
  },
  {
   "cell_type": "code",
   "execution_count": 78,
   "id": "e15529f0",
   "metadata": {},
   "outputs": [
    {
     "data": {
      "text/plain": [
       "array([[False, False, False, ..., False, False, False],\n",
       "       [False, False, False, ..., False, False, False],\n",
       "       [False, False, False, ..., False, False, False],\n",
       "       ...,\n",
       "       [False, False, False, ..., False, False, False],\n",
       "       [False, False, False, ..., False, False, False],\n",
       "       [False, False, False, ..., False, False, False]])"
      ]
     },
     "execution_count": 78,
     "metadata": {},
     "output_type": "execute_result"
    }
   ],
   "source": [
    "a = fl0['c0'].__dict__['theta'] + fl0['c1'].__dict__['theta']\n",
    "a/2 == fl0['g'].__dict__['theta']"
   ]
  },
  {
   "cell_type": "code",
   "execution_count": 79,
   "id": "b22d0cf3",
   "metadata": {},
   "outputs": [
    {
     "data": {
      "text/plain": [
       "array([[1.05996405, 0.86456914, 1.0623417 , ..., 1.02371914, 1.11752676,\n",
       "        1.08531036],\n",
       "       [0.99950012, 0.99950012, 0.99950012, ..., 0.99950012, 0.99950012,\n",
       "        0.99950012],\n",
       "       [1.01371005, 1.01104277, 0.98958465, ..., 0.9959107 , 1.03070685,\n",
       "        1.0596255 ],\n",
       "       ...,\n",
       "       [0.98830986, 1.04842534, 0.99321391, ..., 0.98871956, 1.01987505,\n",
       "        1.02216046],\n",
       "       [0.99243359, 1.05779925, 0.99031277, ..., 1.01283557, 1.06391893,\n",
       "        1.00793724],\n",
       "       [1.06505776, 1.05122922, 0.99219825, ..., 1.01403267, 0.97548126,\n",
       "        0.98986542]])"
      ]
     },
     "execution_count": 79,
     "metadata": {},
     "output_type": "execute_result"
    }
   ],
   "source": [
    "a/2 "
   ]
  },
  {
   "cell_type": "code",
   "execution_count": 80,
   "id": "269b1e83",
   "metadata": {},
   "outputs": [
    {
     "data": {
      "text/plain": [
       "array([[0.7066427 , 0.57637943, 0.7082278 , ..., 0.68247942, 0.74501784,\n",
       "        0.72354024],\n",
       "       [0.66633342, 0.66633342, 0.66633342, ..., 0.66633342, 0.66633342,\n",
       "        0.66633342],\n",
       "       [0.6758067 , 0.67402851, 0.6597231 , ..., 0.66394047, 0.6871379 ,\n",
       "        0.706417  ],\n",
       "       ...,\n",
       "       [0.65887324, 0.69895022, 0.66214261, ..., 0.65914637, 0.6799167 ,\n",
       "        0.68144031],\n",
       "       [0.6616224 , 0.7051995 , 0.66020851, ..., 0.67522372, 0.70927929,\n",
       "        0.67195816],\n",
       "       [0.71003851, 0.70081948, 0.6614655 , ..., 0.67602178, 0.65032084,\n",
       "        0.65991028]])"
      ]
     },
     "execution_count": 80,
     "metadata": {},
     "output_type": "execute_result"
    }
   ],
   "source": [
    "fl0['g'].__dict__['theta']"
   ]
  },
  {
   "cell_type": "code",
   "execution_count": null,
   "id": "e6ada02c",
   "metadata": {},
   "outputs": [],
   "source": []
  }
 ],
 "metadata": {
  "kernelspec": {
   "display_name": "Python 3 (ipykernel)",
   "language": "python",
   "name": "python3"
  },
  "language_info": {
   "codemirror_mode": {
    "name": "ipython",
    "version": 3
   },
   "file_extension": ".py",
   "mimetype": "text/x-python",
   "name": "python",
   "nbconvert_exporter": "python",
   "pygments_lexer": "ipython3",
   "version": "3.10.6"
  }
 },
 "nbformat": 4,
 "nbformat_minor": 5
}
