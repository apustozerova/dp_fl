{
 "cells": [
  {
   "cell_type": "code",
   "execution_count": 4,
   "id": "7d484268",
   "metadata": {},
   "outputs": [
    {
     "name": "stdout",
     "output_type": "stream",
     "text": [
      "1674644457.107546\n",
      "{'n_classes': 100, 'alpha': 0.01, 'max_iter': 1, 'lambda_': 0.0001, 'tolerance': 1e-05, 'sgdDP': True, 'L': 1, 'C': 1, 'epsilon': 1000, 'delta': 1e-05, 'sigma': 0, 'outDP_local': False, 'outDP_local_epsilon': 1}\n",
      "Creating new folder:\n",
      " fl/rs42_ncl2_fiter2_lr0.01_iter1_reg0.0001_sgdDPTrue_eps1000_L1_C1\n",
      "0  FL iteration\n",
      "Start training client:  0\n",
      "DP-SGD with sampling rate = 0.02% and noise_multiplier = 0.14305325786478998 iterated over 5000 steps satisfies differential privacy with eps = 1e+03 and delta = 1e-05.\n",
      "The accuracy of the model : 4.3 %\n",
      "The accuracy of the model : 3.6999999999999997 %\n",
      "Start training client:  1\n",
      "DP-SGD with sampling rate = 0.02% and noise_multiplier = 0.14305325786478998 iterated over 5000 steps satisfies differential privacy with eps = 1e+03 and delta = 1e-05.\n",
      "The accuracy of the model : 3.3000000000000003 %\n",
      "The accuracy of the model : 2.6 %\n",
      "Global model evaluataion:\n",
      "The accuracy of the model : 4.3999999999999995 %\n",
      "The accuracy of the model : 3.5999999999999996 %\n",
      "1  FL iteration\n",
      "Start training client:  0\n",
      "The accuracy of the model : 5.7 %\n",
      "The accuracy of the model : 4.2 %\n",
      "Start training client:  1\n",
      "The accuracy of the model : 5.7 %\n",
      "The accuracy of the model : 3.8 %\n",
      "Global model evaluataion:\n",
      "The accuracy of the model : 6.3 %\n",
      "The accuracy of the model : 5.0 %\n",
      "1674644507.172802\n"
     ]
    }
   ],
   "source": [
    "import numpy as np\n",
    "import pandas as pd\n",
    "\n",
    "import algo\n",
    "import federated\n",
    "import scripts\n",
    "\n",
    "import os\n",
    "import json\n",
    "import random\n",
    "\n",
    "for rand_seed in [42]:\n",
    "\n",
    "    np.random.seed(rand_seed)\n",
    "    random.seed(rand_seed)\n",
    "\n",
    "    x_target_train = np.load('data/rs'+str(rand_seed)+'_x_target_train.npy')\n",
    "    y_target_train = np.load('data/rs'+str(rand_seed)+'_y_target_train.npy')\n",
    "    x_target_test = np.load('data/rs'+str(rand_seed)+'_x_target_test.npy')\n",
    "    y_target_test = np.load('data/rs'+str(rand_seed)+'_y_target_test.npy')\n",
    "    n_classes = len(np.unique(y_target_train))\n",
    "\n",
    "    #for epsilon in [0.1, 0.5, 1, 10, 100, 1000, 10000]:\n",
    "    for L in [1]:\n",
    "\n",
    "        number_of_clients = 2\n",
    "        fl_iterations = 2\n",
    "        data_per_client = int(x_target_train.shape[0]/number_of_clients)\n",
    "\n",
    "        #create clients with set training parameters and datasets\n",
    "        clients = {}\n",
    "        for i in range(number_of_clients):\n",
    "            clients[i] = algo.LogisticRegression_DPSGD()\n",
    "\n",
    "            clients[i].n_classes      = n_classes\n",
    "            clients[i].alpha          = 0.01\n",
    "            clients[i].max_iter       = 1\n",
    "            clients[i].lambda_        = 0.0001\n",
    "            clients[i].tolerance      = 1e-5\n",
    "            clients[i].sgdDP          = True\n",
    "            clients[i].L              = 1 #should be 1 if DP == False\n",
    "            clients[i].epsilon        = 1000\n",
    "            clients[i].C              = 1\n",
    "            clients[i].outDP_local          = False\n",
    "            clients[i].outDP_local_epsilon  = 1\n",
    "#             clients[i].outDP_global         = False #not supported yet\n",
    "#             clients[i].outDP_global_epsilon = 1 #not supported yet\n",
    "\n",
    "            params = dict(clients[0].__dict__)\n",
    "\n",
    "            clients[i].x = x_target_train[i*data_per_client:(i+1)*data_per_client]\n",
    "            clients[i].y = y_target_train[i*data_per_client:(i+1)*data_per_client]\n",
    "\n",
    "        fl_path = f'fl/rs{rand_seed}_ncl{number_of_clients}_fiter{fl_iterations}_lr{clients[0].alpha}_iter{clients[0].max_iter}_reg{clients[0].lambda_}'\n",
    "        if clients[0].sgdDP:\n",
    "            fl_path += f'_sgdDP{clients[0].sgdDP}_eps{clients[0].epsilon}_L{clients[0].L}_C{clients[0].C}'\n",
    "        if clients[i].outDP_local:\n",
    "            fl_path += f'_outDPlocal{clients[0].outDP_local}_eps{clients[0].outDP_local_epsilon}'\n",
    "#         if clients[i].outDP_global:\n",
    "#             fl_path += f'_outDPglobal{clients[0].outDP_global}_eps{clients[0].outDP_global_epsilon}'\n",
    "\n",
    "        params.pop('x')\n",
    "        params.pop('y')\n",
    "        print(params)\n",
    "        if os.path.exists(fl_path): \n",
    "            print('Experiment already exists:\\n', fl_path)\n",
    "        else:\n",
    "            print('Creating new folder:\\n', fl_path)\n",
    "            os.mkdir(fl_path)\n",
    "            with open(fl_path+'/params.json', 'w') as file:\n",
    "                json.dump(params, file)\n",
    "            results = {}\n",
    "            for iteration in range(fl_iterations):\n",
    "\n",
    "                print(iteration, ' FL iteration')\n",
    "                for i in clients:\n",
    "                    print(\"Start training client: \", i)\n",
    "                    federated.train_client(iteration, clients[i], x_target_test, y_target_test)\n",
    "                    if clients[i].outDP_local:\n",
    "                        print('Adding local output DP')\n",
    "                        federated.output_DP_federated(clients[i],  clients[i].x.shape[0], clients[i].outDP_local_epsilon)\n",
    "                        clients[i].train_acc_outDP_local = clients[i].evaluate(clients[i].x, clients[i].y, acc=True)\n",
    "                        clients[i].test_acc_outDP_local = clients[i].evaluate(x_target_test, y_target_test, acc=True)\n",
    "                        np.save(fl_path + f'/i{iteration}_c{i}', clients[i].theta_before_noise)\n",
    "                        np.save(fl_path + f'/i{iteration}_c{i}_outDP', clients[i].theta)\n",
    "                        results[f'i{iteration}_c{i}'] = (clients[i].train_acc,  clients[i].test_acc, clients[i].train_acc_outDP_local, clients[i].test_acc_outDP_local)\n",
    "                    else:\n",
    "                        np.save(fl_path + f'/i{iteration}_c{i}', clients[i].theta)\n",
    "                        results[f'i{iteration}_c{i}'] = (clients[i].train_acc,  clients[i].test_acc)\n",
    "                        \n",
    "                global_model = federated.aggregate(clients)\n",
    "    #             if clients[0].outDP_global:\n",
    "    #                 clients[0].theta = global_model  \n",
    "    #                 clients[0] = output_DP_federated(clients[0],  clients[0].x.shape[0], clients[i].outDP_global_epsilon)\n",
    "                np.save(fl_path + f'/i{iteration}_g', global_model)\n",
    "                federated.update_clients(clients, global_model)\n",
    "                #global model evaluation\n",
    "                print('Global model evaluataion:')\n",
    "                gtrain_acc = clients[0].evaluate(x_target_train, y_target_train, acc=True)\n",
    "                gtest_acc = clients[0].evaluate(x_target_test, y_target_test, acc=True)\n",
    "                results[f'i{iteration}_g'] = (gtrain_acc,  gtest_acc)\n",
    "                if clients[0].evaluate(x_target_test, y_target_test)>=0.56:\n",
    "                    break\n",
    "            \n",
    "            if clients[i].outDP_local:\n",
    "                res = pd.DataFrame.from_dict(results, orient='index', columns=['train_acc', 'test_acc', 'train_acc_outDP', 'test_acc_out_DP'])\n",
    "            else:    \n",
    "                res = pd.DataFrame.from_dict(results, orient='index', columns=['train_acc', 'test_acc'])                \n",
    "            res.to_csv(fl_path + f'/results.csv')\n"
   ]
  },
  {
   "cell_type": "code",
   "execution_count": 8,
   "id": "b3638383",
   "metadata": {},
   "outputs": [
    {
     "data": {
      "text/plain": [
       "50.065255880355835"
      ]
     },
     "execution_count": 8,
     "metadata": {},
     "output_type": "execute_result"
    }
   ],
   "source": [
    "1674644507.172802 - 1674644457.107546"
   ]
  },
  {
   "cell_type": "code",
   "execution_count": 10,
   "id": "2e8ef384",
   "metadata": {},
   "outputs": [
    {
     "name": "stdout",
     "output_type": "stream",
     "text": [
      "1674644676.7500732\n",
      "DP-SGD with sampling rate = 0.02% and noise_multiplier = 0.14305325786478998 iterated over 5000 steps satisfies differential privacy with eps = 1e+03 and delta = 1e-05.\n",
      "The accuracy of the model : 4.3 %\n",
      "The accuracy of the model : 3.6999999999999997 %\n",
      "DP-SGD with sampling rate = 0.02% and noise_multiplier = 0.14305325786478998 iterated over 5000 steps satisfies differential privacy with eps = 1e+03 and delta = 1e-05.\n",
      "The accuracy of the model : 3.3000000000000003 %\n",
      "The accuracy of the model : 2.6 %\n",
      "The accuracy of the model : 5.7 %\n",
      "The accuracy of the model : 4.2 %\n",
      "The accuracy of the model : 5.7 %\n",
      "The accuracy of the model : 3.8 %\n",
      "1674644723.874408\n"
     ]
    }
   ],
   "source": [
    "import numpy as np\n",
    "import pandas as pd\n",
    "\n",
    "import algo\n",
    "import federated\n",
    "import scripts\n",
    "\n",
    "import time\n",
    "import os\n",
    "import json\n",
    "import random\n",
    "\n",
    "print(time.time())\n",
    "for rand_seed in [42]:\n",
    "\n",
    "    np.random.seed(rand_seed)\n",
    "    random.seed(rand_seed)\n",
    "\n",
    "    x_target_train = np.load('data/rs'+str(rand_seed)+'_x_target_train.npy')\n",
    "    y_target_train = np.load('data/rs'+str(rand_seed)+'_y_target_train.npy')\n",
    "    x_target_test = np.load('data/rs'+str(rand_seed)+'_x_target_test.npy')\n",
    "    y_target_test = np.load('data/rs'+str(rand_seed)+'_y_target_test.npy')\n",
    "    n_classes = len(np.unique(y_target_train))\n",
    "\n",
    "    #for epsilon in [0.1, 0.5, 1, 10, 100, 1000, 10000]:\n",
    "    for L in [1]:\n",
    "\n",
    "        number_of_clients = 2\n",
    "        fl_iterations = 2\n",
    "        data_per_client = int(x_target_train.shape[0]/number_of_clients)\n",
    "\n",
    "        #create clients with set training parameters and datasets\n",
    "        clients = {}\n",
    "        for i in range(number_of_clients):\n",
    "            clients[i] = algo.LogisticRegression_DPSGD()\n",
    "\n",
    "            clients[i].n_classes      = n_classes\n",
    "            clients[i].alpha          = 0.01\n",
    "            clients[i].max_iter       = 1\n",
    "            clients[i].lambda_        = 0.0001\n",
    "            clients[i].tolerance      = 1e-5\n",
    "            clients[i].sgdDP          = True\n",
    "            clients[i].L              = 1 #should be 1 if DP == False\n",
    "            clients[i].epsilon        = 1000\n",
    "            clients[i].C              = 1\n",
    "            clients[i].outDP_local          = False\n",
    "            clients[i].outDP_local_epsilon  = 1\n",
    "#             clients[i].outDP_global         = False #not supported yet\n",
    "#             clients[i].outDP_global_epsilon = 1 #not supported yet\n",
    "\n",
    "            params = dict(clients[0].__dict__)\n",
    "\n",
    "            clients[i].x = x_target_train[i*data_per_client:(i+1)*data_per_client]\n",
    "            clients[i].y = y_target_train[i*data_per_client:(i+1)*data_per_client]\n",
    "\n",
    "        fl_path = f'fl/rs{rand_seed}_ncl{number_of_clients}_fiter{fl_iterations}_lr{clients[0].alpha}_iter{clients[0].max_iter}_reg{clients[0].lambda_}'\n",
    "        if clients[0].sgdDP:\n",
    "            fl_path += f'_sgdDP{clients[0].sgdDP}_eps{clients[0].epsilon}_L{clients[0].L}_C{clients[0].C}'\n",
    "        if clients[i].outDP_local:\n",
    "            fl_path += f'_outDPlocal{clients[0].outDP_local}_eps{clients[0].outDP_local_epsilon}'\n",
    "#         if clients[i].outDP_global:\n",
    "#             fl_path += f'_outDPglobal{clients[0].outDP_global}_eps{clients[0].outDP_global_epsilon}'\n",
    "\n",
    "        params.pop('x')\n",
    "        params.pop('y')\n",
    "#         print(params)\n",
    "        if False and os.path.exists(fl_path): \n",
    "            print('Experiment already exists:\\n', fl_path)\n",
    "        else:\n",
    "#             print('Creating new folder:\\n', fl_path)\n",
    "#             os.mkdir(fl_path)\n",
    "            with open(fl_path+'/params.json', 'w') as file:\n",
    "                json.dump(params, file)\n",
    "            results = {}\n",
    "            for iteration in range(fl_iterations):\n",
    "\n",
    "#                 print(iteration, ' FL iteration')\n",
    "                for i in clients:\n",
    "#                     print(\"Start training client: \", i)\n",
    "                    federated.train_client(iteration, clients[i], x_target_test, y_target_test)\n",
    "                    if clients[i].outDP_local:\n",
    "#                         print('Adding local output DP')\n",
    "                        federated.output_DP_federated(clients[i],  clients[i].x.shape[0], clients[i].outDP_local_epsilon)\n",
    "                        clients[i].train_acc_outDP_local = clients[i].evaluate(clients[i].x, clients[i].y)\n",
    "                        clients[i].test_acc_outDP_local = clients[i].evaluate(x_target_test, y_target_test)\n",
    "                        np.save(fl_path + f'/i{iteration}_c{i}', clients[i].theta_before_noise)\n",
    "                        np.save(fl_path + f'/i{iteration}_c{i}_outDP', clients[i].theta)\n",
    "                        results[f'i{iteration}_c{i}'] = (clients[i].train_acc,  clients[i].test_acc, clients[i].train_acc_outDP_local, clients[i].test_acc_outDP_local)\n",
    "                    else:\n",
    "                        np.save(fl_path + f'/i{iteration}_c{i}', clients[i].theta)\n",
    "                        results[f'i{iteration}_c{i}'] = (clients[i].train_acc,  clients[i].test_acc)\n",
    "                        \n",
    "                global_model = federated.aggregate(clients)\n",
    "    #             if clients[0].outDP_global:\n",
    "    #                 clients[0].theta = global_model  \n",
    "    #                 clients[0] = output_DP_federated(clients[0],  clients[0].x.shape[0], clients[i].outDP_global_epsilon)\n",
    "                np.save(fl_path + f'/i{iteration}_g', global_model)\n",
    "                federated.update_clients(clients, global_model)\n",
    "                #global model evaluation\n",
    "#                 print('Global model evaluataion:')\n",
    "                gtrain_acc = clients[0].evaluate(x_target_train, y_target_train)\n",
    "                gtest_acc = clients[0].evaluate(x_target_test, y_target_test)\n",
    "                results[f'i{iteration}_g'] = (gtrain_acc,  gtest_acc)\n",
    "                if clients[0].evaluate(x_target_test, y_target_test)>=0.56:\n",
    "                    break\n",
    "            \n",
    "            if clients[i].outDP_local:\n",
    "                res = pd.DataFrame.from_dict(results, orient='index', columns=['train_acc', 'test_acc', 'train_acc_outDP', 'test_acc_out_DP'])\n",
    "            else:    \n",
    "                res = pd.DataFrame.from_dict(results, orient='index', columns=['train_acc', 'test_acc'])                \n",
    "            res.to_csv(fl_path + f'/results.csv')\n",
    "print(time.time())"
   ]
  },
  {
   "cell_type": "code",
   "execution_count": 9,
   "id": "9c542b5c",
   "metadata": {},
   "outputs": [
    {
     "data": {
      "text/plain": [
       "46.05725312232971"
      ]
     },
     "execution_count": 9,
     "metadata": {},
     "output_type": "execute_result"
    }
   ],
   "source": [
    "1674644608.564843 - 1674644562.5075898"
   ]
  },
  {
   "cell_type": "code",
   "execution_count": 11,
   "id": "f8ce1c7d",
   "metadata": {},
   "outputs": [
    {
     "data": {
      "text/plain": [
       "47.12433481216431"
      ]
     },
     "execution_count": 11,
     "metadata": {},
     "output_type": "execute_result"
    }
   ],
   "source": [
    "1674644723.874408 - 1674644676.7500732"
   ]
  },
  {
   "cell_type": "code",
   "execution_count": null,
   "id": "1185edab",
   "metadata": {},
   "outputs": [],
   "source": [
    "def output_DP_federated(model, X_train_size, epsilon_outDP, delta_outDP=1e-5):\n",
    "    #gaussian mechanism \n",
    "    model.delta_outDP = delta_outDP\n",
    "    sensitivity = 2/(X_train_size*model.lambda_) \n",
    "    sigma = np.sqrt(2 * np.log(1.25 / model.delta_outDP)) * (sensitivity / epsilon_outDP)\n",
    "    model.theta_before_noise = model.theta\n",
    "    model.theta = model.theta + np.random.normal(loc=0.0, scale=sigma, size=model.theta.shape)\n"
   ]
  },
  {
   "cell_type": "code",
   "execution_count": null,
   "id": "23144363",
   "metadata": {},
   "outputs": [],
   "source": [
    "path = 'fl'\n",
    "params = {}\n",
    "results = {}\n",
    "models = {}\n",
    "for r,d,f in os.walk(path):\n",
    "    for file in f:\n",
    "        if \"params.json\" in file:\n",
    "            with open(r+'/'+file) as json_file:\n",
    "                params[r] = json.load(json_file)\n",
    "        elif \"results.csv\" in file:\n",
    "            results[r] = pd.read_csv(r+'/'+file)\n",
    "            it = []\n",
    "            client = []\n",
    "            for k in results[r]['Unnamed: 0']:\n",
    "                it.append(k[k.find('i')+1:k.find('_')])\n",
    "                client.append(k[k.find('_')+1:])\n",
    "            results[r]['it'] = it\n",
    "            results[r]['client'] = client\n",
    "        elif '.npy' in file:\n",
    "            if r not in models:\n",
    "                models[r] = {}\n",
    "            models[r][file] = np.load(r+'/'+file)\n",
    "\n"
   ]
  },
  {
   "cell_type": "code",
   "execution_count": null,
   "id": "42ef449c",
   "metadata": {},
   "outputs": [],
   "source": [
    "x_target_train = np.load('data/rs'+str(rand_seed)+'_x_target_train.npy')\n",
    "y_target_train = np.load('data/rs'+str(rand_seed)+'_y_target_train.npy')\n",
    "x_target_test = np.load('data/rs'+str(rand_seed)+'_x_target_test.npy')\n",
    "y_target_test = np.load('data/rs'+str(rand_seed)+'_y_target_test.npy')\n",
    "n_classes = len(np.unique(y_target_train))\n"
   ]
  },
  {
   "cell_type": "code",
   "execution_count": null,
   "id": "0b090109",
   "metadata": {},
   "outputs": [],
   "source": [
    "def aggregate(clients):\n",
    "    \n",
    "    global_model = clients[0].theta \n",
    "    for i in range(1, len(clients.keys())):\n",
    "        global_model += clients[i].theta \n",
    "\n",
    "    return global_model/3"
   ]
  },
  {
   "cell_type": "code",
   "execution_count": null,
   "id": "b8463e1c",
   "metadata": {},
   "outputs": [],
   "source": [
    "def update_clients(clients, global_model):\n",
    "    \n",
    "    for i in clients:\n",
    "        clients[i].theta = global_model"
   ]
  },
  {
   "cell_type": "code",
   "execution_count": null,
   "id": "d513eba8",
   "metadata": {},
   "outputs": [],
   "source": [
    "def train_client(client):\n",
    "    \n",
    "    X,y = client.init_theta(client.x, client.y)\n",
    "    client.train(X,y)\n",
    "    client.train_acc = client.evaluate(client.x, client.y, acc=True)\n",
    "    client.test_acc = client.evaluate(x_target_test, y_target_test, acc=True)\n"
   ]
  },
  {
   "cell_type": "code",
   "execution_count": 1,
   "id": "24026390",
   "metadata": {},
   "outputs": [
    {
     "data": {
      "text/plain": [
       "'2023-01-25 11:00:24'"
      ]
     },
     "execution_count": 1,
     "metadata": {},
     "output_type": "execute_result"
    }
   ],
   "source": [
    "from time import gmtime, strftime\n",
    "strftime(\"%Y-%m-%d %H:%M:%S\", gmtime())\n"
   ]
  },
  {
   "cell_type": "code",
   "execution_count": null,
   "id": "1de3ee9e",
   "metadata": {},
   "outputs": [],
   "source": []
  },
  {
   "cell_type": "code",
   "execution_count": null,
   "id": "034e158b",
   "metadata": {},
   "outputs": [],
   "source": []
  },
  {
   "cell_type": "code",
   "execution_count": null,
   "id": "cdb42f4b",
   "metadata": {},
   "outputs": [],
   "source": []
  }
 ],
 "metadata": {
  "kernelspec": {
   "display_name": "Python 3 (ipykernel)",
   "language": "python",
   "name": "python3"
  },
  "language_info": {
   "codemirror_mode": {
    "name": "ipython",
    "version": 3
   },
   "file_extension": ".py",
   "mimetype": "text/x-python",
   "name": "python",
   "nbconvert_exporter": "python",
   "pygments_lexer": "ipython3",
   "version": "3.10.6"
  }
 },
 "nbformat": 4,
 "nbformat_minor": 5
}
