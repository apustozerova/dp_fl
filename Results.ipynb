{
 "cells": [
  {
   "cell_type": "code",
   "execution_count": 33,
   "id": "407433fa",
   "metadata": {},
   "outputs": [],
   "source": [
    "import os\n",
    "import pandas as pd\n",
    "import numpy as np\n",
    "import matplotlib.pyplot as plt\n",
    "\n",
    "import algo"
   ]
  },
  {
   "cell_type": "code",
   "execution_count": 56,
   "id": "ce3b819a",
   "metadata": {},
   "outputs": [],
   "source": [
    "path = 'tm'\n",
    "tms = {}\n",
    "for r,d,f in os.walk(path):\n",
    "    for file in f:\n",
    "        tms[file] = np.load(path+'/'+file)\n",
    "        "
   ]
  },
  {
   "cell_type": "code",
   "execution_count": 57,
   "id": "c1783b2e",
   "metadata": {},
   "outputs": [],
   "source": [
    "target_models = {}\n",
    "for tm in tms:\n",
    "    target_models[tm] = algo.LogisticRegression_DPSGD()\n",
    "    target_models[tm].theta = tms[tm]"
   ]
  },
  {
   "cell_type": "code",
   "execution_count": 59,
   "id": "ded88bdb",
   "metadata": {},
   "outputs": [],
   "source": [
    "x_target_train = np.load('x_target_train.npy')\n",
    "y_target_train = np.load('y_target_train.npy')\n",
    "x_target_test = np.load('x_target_test.npy')\n",
    "y_target_test = np.load('y_target_test.npy')"
   ]
  },
  {
   "cell_type": "code",
   "execution_count": 60,
   "id": "3298ae3e",
   "metadata": {},
   "outputs": [],
   "source": [
    "accuracy = {'train': {}, 'test': {}}\n",
    "for model in target_models:\n",
    "    accuracy['train'][model] = target_models[model].evaluate(x_target_train, y_target_train)\n",
    "    accuracy['test'][model] = target_models[model].evaluate(x_target_test, y_target_test)"
   ]
  },
  {
   "cell_type": "code",
   "execution_count": 61,
   "id": "f80e6dfa",
   "metadata": {},
   "outputs": [
    {
     "data": {
      "text/plain": [
       "'lr0.001_iter100_reg1e-05_DPTrue_eps0.1_L1_'"
      ]
     },
     "execution_count": 61,
     "metadata": {},
     "output_type": "execute_result"
    }
   ],
   "source": [
    "alpha          = 0.001\n",
    "max_iter       = 100\n",
    "lambda_        = 1e-5\n",
    "tolerance      = 1e-5\n",
    "DP             = True\n",
    "L              = 1\n",
    "epsilon        = 0.1\n",
    "\n",
    "\n",
    "tm_path = f'lr{alpha}_iter{max_iter}_reg{lambda_}_DP{DP}_'\n",
    "if DP:\n",
    "    tm_path += f'eps{epsilon}_L{L}_'\n",
    "tm_path        "
   ]
  },
  {
   "cell_type": "code",
   "execution_count": 66,
   "id": "8c94b9ad",
   "metadata": {},
   "outputs": [
    {
     "name": "stdout",
     "output_type": "stream",
     "text": [
      "lr0.001_iter100_reg1e-05_DPTrue_eps0.1_L1_target_model.npy\n",
      "lr0.001_iter100_reg1e-05_DPTrue_eps0.2_L1_target_model.npy\n",
      "lr0.001_iter100_reg1e-05_DPTrue_eps0.4_L1_target_model.npy\n",
      "lr0.001_iter100_reg1e-05_DPTrue_eps0.5_L1_target_model.npy\n",
      "lr0.001_iter100_reg1e-05_DPTrue_eps0.6_L1_target_model.npy\n",
      "lr0.001_iter100_reg1e-05_DPTrue_eps0.8_L1_target_model.npy\n",
      "lr0.001_iter100_reg1e-05_DPTrue_eps0.9_L1_target_model.npy\n"
     ]
    }
   ],
   "source": [
    "res = {}\n",
    "plot_train = []\n",
    "plot_test = []\n",
    "\n",
    "for epsilon in np.arange(0.1,1.1,0.1):\n",
    "    DP             = True\n",
    "    L              = 1\n",
    "#     epsilon        = 0.1\n",
    "    tm_path = f'lr{alpha}_iter{max_iter}_reg{lambda_}_DP{DP}_'\n",
    "    if DP:\n",
    "        tm_path += f'eps{epsilon}_L{L}_'\n",
    "        \n",
    "    for model in target_models:\n",
    "        if tm_path  in model:\n",
    "            print(model)\n",
    "            res[model] = (accuracy['train'][model], accuracy['test'][model])\n",
    "            plot_train.append(accuracy['train'][model])\n",
    "            plot_test.append(accuracy['test'][model])\n",
    "plt.plot(plot_train)"
   ]
  },
  {
   "cell_type": "code",
   "execution_count": 77,
   "id": "17433491",
   "metadata": {},
   "outputs": [
    {
     "name": "stdout",
     "output_type": "stream",
     "text": [
      "lr0.001_iter100_reg1e-05_DPTrue_eps0.1_L1_target_model.npy\n",
      "lr0.001_iter100_reg1e-05_DPTrue_eps0.2_L1_target_model.npy\n",
      "lr0.001_iter100_reg1e-05_DPTrue_eps0.3_L1_target_model.npy\n",
      "lr0.001_iter100_reg1e-05_DPTrue_eps0.4_L1_target_model.npy\n",
      "lr0.001_iter100_reg1e-05_DPTrue_eps0.5_L1_target_model.npy\n",
      "lr0.001_iter100_reg1e-05_DPTrue_eps0.6_L1_target_model.npy\n",
      "lr0.001_iter100_reg1e-05_DPTrue_eps0.7_L1_target_model.npy\n",
      "lr0.001_iter100_reg1e-05_DPTrue_eps0.8_L1_target_model.npy\n",
      "lr0.001_iter100_reg1e-05_DPTrue_eps0.9_L1_target_model.npy\n",
      "lr0.001_iter100_reg1e-05_DPTrue_eps1_L1_target_model.npy\n",
      "lr0.001_iter100_reg1e-05_DPTrue_eps5_L1_target_model.npy\n",
      "lr0.001_iter100_reg1e-05_DPTrue_eps10_L1_target_model.npy\n"
     ]
    }
   ],
   "source": [
    "res = {}\n",
    "plot_train = []\n",
    "plot_test = []\n",
    "\n",
    "\n",
    "eps = [0.1,0.2,0.3,0.4,0.5,0.6,0.7,0.8,0.9,1,5,10]\n",
    "\n",
    "for epsilon in eps:\n",
    "    for model in target_models:\n",
    "        if 'lr0.001_iter100_reg1e-05_DPTrue_' in model and '_L1_target_model.npy' in model and '_eps'+str(epsilon)+'_' in model:\n",
    "            print(model)\n",
    "            res[model] = (accuracy['train'][model], accuracy['test'][model])\n",
    "            plot_train.append(accuracy['train'][model])\n",
    "            plot_test.append(accuracy['test'][model])\n"
   ]
  },
  {
   "cell_type": "code",
   "execution_count": 87,
   "id": "b2169753",
   "metadata": {},
   "outputs": [
    {
     "data": {
      "text/plain": [
       "[<matplotlib.lines.Line2D at 0x16cc3a110>]"
      ]
     },
     "execution_count": 87,
     "metadata": {},
     "output_type": "execute_result"
    },
    {
     "data": {
      "image/png": "[encoded data removed]",
      "text/plain": [
       "<Figure size 640x480 with 1 Axes>"
      ]
     },
     "metadata": {},
     "output_type": "display_data"
    }
   ],
   "source": [
    "plt.plot(eps,plot_test)\n",
    "plt.plot(eps,plot_train)\n",
    "# plt.xscale('log')"
   ]
  },
  {
   "cell_type": "code",
   "execution_count": null,
   "id": "6e7a834a",
   "metadata": {},
   "outputs": [],
   "source": [
    "with open('test_model_param_save.json', 'r') as fp:\n",
    "    data = json.load(fp)"
   ]
  }
 ],
 "metadata": {
  "kernelspec": {
   "display_name": "Python 3 (ipykernel)",
   "language": "python",
   "name": "python3"
  },
  "language_info": {
   "codemirror_mode": {
    "name": "ipython",
    "version": 3
   },
   "file_extension": ".py",
   "mimetype": "text/x-python",
   "name": "python",
   "nbconvert_exporter": "python",
   "pygments_lexer": "ipython3",
   "version": "3.10.6"
  }
 },
 "nbformat": 4,
 "nbformat_minor": 5
}
