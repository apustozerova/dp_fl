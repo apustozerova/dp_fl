{
 "cells": [
  {
   "cell_type": "code",
   "execution_count": 37,
   "id": "5ddec7d3",
   "metadata": {},
   "outputs": [],
   "source": [
    "import numpy as np\n",
    "import pandas as pd\n",
    "\n",
    "from sklearn.model_selection import train_test_split\n",
    "from sklearn.preprocessing import OneHotEncoder, StandardScaler\n",
    "\n",
    "import algo\n",
    "import attack\n",
    "\n",
    "import torch\n",
    "import os\n",
    "import json\n",
    "import random\n",
    "\n"
   ]
  },
  {
   "cell_type": "code",
   "execution_count": 33,
   "id": "4334f587",
   "metadata": {},
   "outputs": [],
   "source": [
    "# data = pd.read_csv('../datasets.nosync/iris.data', header=None)\n",
    "data = pd.read_csv('../DP-UTIL.nosync/loan_preprocessed.csv', index_col=0)\n"
   ]
  },
  {
   "cell_type": "code",
   "execution_count": 22,
   "id": "7afe986a",
   "metadata": {},
   "outputs": [],
   "source": [
    "#Iris\n",
    "labels = data[4].unique()\n",
    "for i,l in enumerate(labels):\n",
    "    data = data.replace(l, i)\n",
    "data = data.sample(frac=1, random_state=1)\n",
    "x_target_train = np.array(data[:100].drop(4, axis=1))\n",
    "y_target_train = np.array(data[:100][4])\n",
    "x_target_test = np.array(data[100:].drop(4, axis=1))\n",
    "y_target_test = np.array(data[100:][4])"
   ]
  },
  {
   "cell_type": "code",
   "execution_count": 46,
   "id": "d7b4c355",
   "metadata": {},
   "outputs": [],
   "source": [
    "#Loan\n",
    "y = data['grade']\n",
    "X = data.drop('grade', axis=1)\n",
    "scaler = StandardScaler()\n",
    "X = scaler.fit_transform(X)\n",
    "X_train, X_test, y_train, y_test = train_test_split(X[0:100000], y[0:100000], train_size=0.5, random_state=0)\n",
    "x_target_train = np.array(X_train)\n",
    "y_target_train = np.array(y_train)\n",
    "x_target_test = np.array(X_test)\n",
    "y_target_test = np.array(y_test)"
   ]
  },
  {
   "cell_type": "code",
   "execution_count": 62,
   "id": "8946fe17",
   "metadata": {},
   "outputs": [],
   "source": [
    "model = algo.LogisticRegression_DPSGD()\n",
    "\n",
    "model.n_classes      = len(np.unique(y_target_test))\n",
    "model.alpha          = 0.01\n",
    "model.max_iter       = 100\n",
    "model.lambda_        = 1e-5\n",
    "model.tolerance      = 1e-5\n",
    "model.DP             = False\n",
    "model.L              = 10\n",
    "model.epsilon        = 0"
   ]
  },
  {
   "cell_type": "code",
   "execution_count": 63,
   "id": "214c2b2c",
   "metadata": {},
   "outputs": [
    {
     "name": "stdout",
     "output_type": "stream",
     "text": [
      "The accuracy of the model : 88.6 %\n",
      "The accuracy of the model : 88.1 %\n"
     ]
    },
    {
     "data": {
      "text/plain": [
       "0.88142"
      ]
     },
     "execution_count": 63,
     "metadata": {},
     "output_type": "execute_result"
    }
   ],
   "source": [
    "rand_seed=42\n",
    "np.random.seed(rand_seed)\n",
    "torch.manual_seed(rand_seed)\n",
    "random.seed(rand_seed)\n",
    "\n",
    "X,y = model.init_theta(x_target_train, y_target_train)\n",
    "model.train(X,y)\n",
    "model.evaluate(x_target_train, y_target_train, acc=True)\n",
    "model.evaluate(x_target_test, y_target_test, acc=True)\n",
    "            "
   ]
  },
  {
   "cell_type": "code",
   "execution_count": 52,
   "id": "e1df0d83",
   "metadata": {},
   "outputs": [
    {
     "name": "stdout",
     "output_type": "stream",
     "text": [
      "DP-SGD with sampling rate = 0.01% and noise_multiplier = 0.28762281181154964 iterated over 1000000 steps satisfies differential privacy with eps = 100 and delta = 1e-05.\n",
      "The accuracy of the model : 82.19999999999999 %\n",
      "The accuracy of the model : 81.39999999999999 %\n"
     ]
    },
    {
     "data": {
      "text/plain": [
       "0.81396"
      ]
     },
     "execution_count": 52,
     "metadata": {},
     "output_type": "execute_result"
    }
   ],
   "source": [
    "model = algo.LogisticRegression_DPSGD()\n",
    "\n",
    "model.n_classes      = len(np.unique(y_target_test))\n",
    "model.alpha          = 0.01\n",
    "model.max_iter       = 100\n",
    "model.lambda_        = 1e-5\n",
    "model.tolerance      = 1e-5\n",
    "model.DP             = True\n",
    "model.L              = 5\n",
    "model.epsilon        = 100\n",
    "\n",
    "rand_seed=42\n",
    "np.random.seed(rand_seed)\n",
    "torch.manual_seed(rand_seed)\n",
    "random.seed(rand_seed)\n",
    "\n",
    "X,y = model.init_theta(x_target_train, y_target_train)\n",
    "model.train(X,y)\n",
    "model.evaluate(x_target_train, y_target_train, acc=True)\n",
    "model.evaluate(x_target_test, y_target_test, acc=True)\n",
    "            "
   ]
  },
  {
   "cell_type": "code",
   "execution_count": 59,
   "id": "369648a4",
   "metadata": {},
   "outputs": [
    {
     "name": "stdout",
     "output_type": "stream",
     "text": [
      "DP-SGD with sampling rate = 0.01% and noise_multiplier = 0.15221822151677022 iterated over 3000000 steps satisfies differential privacy with eps = 1e+05 and delta = 1e-05.\n",
      "The accuracy of the model : 86.3 %\n",
      "The accuracy of the model : 85.7 %\n"
     ]
    },
    {
     "data": {
      "text/plain": [
       "0.85688"
      ]
     },
     "execution_count": 59,
     "metadata": {},
     "output_type": "execute_result"
    }
   ],
   "source": [
    "model = algo.LogisticRegression_DPSGD()\n",
    "\n",
    "model.n_classes      = len(np.unique(y_target_test))\n",
    "model.alpha          = 0.01\n",
    "model.max_iter       = 300\n",
    "model.lambda_        = 1e-5\n",
    "model.tolerance      = 1e-5\n",
    "model.DP             = True\n",
    "model.L              = 5\n",
    "model.epsilon        = 100000\n",
    "\n",
    "rand_seed=42\n",
    "np.random.seed(rand_seed)\n",
    "torch.manual_seed(rand_seed)\n",
    "random.seed(rand_seed)\n",
    "\n",
    "X,y = model.init_theta(x_target_train, y_target_train)\n",
    "model.train(X,y)\n",
    "model.evaluate(x_target_train, y_target_train, acc=True)\n",
    "model.evaluate(x_target_test, y_target_test, acc=True)\n",
    "            "
   ]
  },
  {
   "cell_type": "code",
   "execution_count": 61,
   "id": "4a86712a",
   "metadata": {},
   "outputs": [
    {
     "name": "stdout",
     "output_type": "stream",
     "text": [
      "DP-SGD with sampling rate = 0.02% and noise_multiplier = 0.181578173965137 iterated over 1000000 steps satisfies differential privacy with eps = 1e+04 and delta = 1e-05.\n",
      "The accuracy of the model : 83.8 %\n",
      "The accuracy of the model : 83.0 %\n"
     ]
    },
    {
     "data": {
      "text/plain": [
       "0.83046"
      ]
     },
     "execution_count": 61,
     "metadata": {},
     "output_type": "execute_result"
    }
   ],
   "source": [
    "model = algo.LogisticRegression_DPSGD()\n",
    "\n",
    "model.n_classes      = len(np.unique(y_target_test))\n",
    "model.alpha          = 0.01\n",
    "model.max_iter       = 200\n",
    "model.lambda_        = 1e-5\n",
    "model.tolerance      = 1e-5\n",
    "model.DP             = True\n",
    "model.L              = 10\n",
    "model.epsilon        = 10000\n",
    "\n",
    "rand_seed=42\n",
    "np.random.seed(rand_seed)\n",
    "torch.manual_seed(rand_seed)\n",
    "random.seed(rand_seed)\n",
    "\n",
    "X,y = model.init_theta(x_target_train, y_target_train)\n",
    "model.train(X,y)\n",
    "model.evaluate(x_target_train, y_target_train, acc=True)\n",
    "model.evaluate(x_target_test, y_target_test, acc=True)\n",
    "            "
   ]
  },
  {
   "cell_type": "code",
   "execution_count": 130,
   "id": "2ba059c1",
   "metadata": {},
   "outputs": [],
   "source": [
    "model = algo.LogisticRegression_DPSGD()\n",
    "\n",
    "model.n_classes      = len(data[4].unique())\n",
    "model.alpha          = 0.01\n",
    "model.max_iter       = 100\n",
    "model.lambda_        = 1e-5\n",
    "model.tolerance      = 1e-5\n",
    "model.DP             = True\n",
    "model.L              = 10\n",
    "model.epsilon        = 0.5"
   ]
  },
  {
   "cell_type": "code",
   "execution_count": 15,
   "id": "83a7d11b",
   "metadata": {},
   "outputs": [
    {
     "name": "stdout",
     "output_type": "stream",
     "text": [
      "Dataset:  ../datasets/dataset_purchase\n",
      "Classes in classification task:  100\n"
     ]
    }
   ],
   "source": [
    "raw_data_path = '../datasets/dataset_purchase'\n",
    "raw_data = pd.read_csv(raw_data_path)\n",
    "y=raw_data['63']\n",
    "X_raw =raw_data.drop('63', axis=1)\n",
    "y_raw =  y.replace(100, 0)\n",
    "print('Dataset: ', raw_data_path)\n",
    "print('Classes in classification task: ', y.nunique())\n",
    "n_classes = y.nunique()"
   ]
  },
  {
   "cell_type": "code",
   "execution_count": 16,
   "id": "55f19985",
   "metadata": {},
   "outputs": [
    {
     "name": "stdout",
     "output_type": "stream",
     "text": [
      "(39464, 600) (157859, 600)\n"
     ]
    },
    {
     "name": "stderr",
     "output_type": "stream",
     "text": [
      "/var/folders/66/0p0lnj8d6zj532q0yvm1zt580000gn/T/ipykernel_28431/3339399080.py:8: FutureWarning: The behavior of `series[i:j]` with an integer-dtype index is deprecated. In a future version, this will be treated as *label-based* indexing, consistent with e.g. `series[i]` lookups. To retain the old behavior, use `series.iloc[i:j]`. To get the future behavior, use `series.loc[i:j]`.\n",
      "  y_target_train = np.array(y_train[:X_train_size])\n",
      "/var/folders/66/0p0lnj8d6zj532q0yvm1zt580000gn/T/ipykernel_28431/3339399080.py:10: FutureWarning: The behavior of `series[i:j]` with an integer-dtype index is deprecated. In a future version, this will be treated as *label-based* indexing, consistent with e.g. `series[i]` lookups. To retain the old behavior, use `series.iloc[i:j]`. To get the future behavior, use `series.loc[i:j]`.\n",
      "  y_target_test = np.array(y_train[X_train_size:X_train_size+X_test_size])\n"
     ]
    }
   ],
   "source": [
    "X_train, x_shadow, y_train, y_shadow = train_test_split(X_raw, y_raw, train_size=0.2, random_state=rand_seed)\n",
    "print(X_train.shape, x_shadow.shape)\n",
    "\n",
    "#Target model\n",
    "X_train_size = 10000\n",
    "X_test_size = 10000\n",
    "x_target_train = np.array(X_train[:X_train_size])\n",
    "y_target_train = np.array(y_train[:X_train_size])\n",
    "x_target_test = np.array(X_train[X_train_size:X_train_size+X_test_size])\n",
    "y_target_test = np.array(y_train[X_train_size:X_train_size+X_test_size])\n",
    "if y_target_test.shape[0]<X_test_size or y_target_train.shape[0]<X_train_size:\n",
    "    raise ValueError(\n",
    "            \"Not enough traning or test data for the target model\")        \n"
   ]
  },
  {
   "cell_type": "code",
   "execution_count": 18,
   "id": "53af2b7e",
   "metadata": {},
   "outputs": [
    {
     "name": "stdout",
     "output_type": "stream",
     "text": [
      "DP-SGD with sampling rate = 10% and noise_multiplier = 0.07487938508493773 iterated over 1000 steps satisfies differential privacy with eps = 1e+05 and delta = 1e-05.\n"
     ]
    }
   ],
   "source": [
    "rand_seed=2\n",
    "np.random.seed(rand_seed)\n",
    "torch.manual_seed(rand_seed)\n",
    "\n",
    "model = algo.LogisticRegression_DPSGD()\n",
    "\n",
    "model.n_classes      = n_classes\n",
    "model.alpha          = 0.001\n",
    "model.max_iter       = 100\n",
    "model.lambda_        = 1e-5\n",
    "model.tolerance      = 1e-5\n",
    "model.DP             = True\n",
    "model.L              = 1000\n",
    "model.epsilon        = 100000\n",
    "\n",
    "X,y = model.init_theta(x_target_train, y_target_train)\n",
    "model.train(X,y)\n"
   ]
  },
  {
   "cell_type": "code",
   "execution_count": null,
   "id": "1fcafef9",
   "metadata": {},
   "outputs": [],
   "source": [
    "model.train_acc = model.evaluate(x_target_train, y_target_train, acc=True)\n",
    "model.test_acc = model.evaluate(x_target_test, y_target_test, acc=True)"
   ]
  },
  {
   "cell_type": "markdown",
   "id": "b8de83eb",
   "metadata": {},
   "source": [
    "# MI"
   ]
  },
  {
   "cell_type": "code",
   "execution_count": 64,
   "id": "93858113",
   "metadata": {},
   "outputs": [
    {
     "ename": "NameError",
     "evalue": "name 'Net_attack' is not defined",
     "output_type": "error",
     "traceback": [
      "\u001b[0;31m---------------------------------------------------------------------------\u001b[0m",
      "\u001b[0;31mNameError\u001b[0m                                 Traceback (most recent call last)",
      "Input \u001b[0;32mIn [64]\u001b[0m, in \u001b[0;36m<cell line: 3>\u001b[0;34m()\u001b[0m\n\u001b[1;32m      4\u001b[0m \u001b[38;5;28;01mfor\u001b[39;00m file \u001b[38;5;129;01min\u001b[39;00m f:\n\u001b[1;32m      5\u001b[0m     \u001b[38;5;28;01mif\u001b[39;00m \u001b[38;5;124m\"\u001b[39m\u001b[38;5;124mbest_mi_model\u001b[39m\u001b[38;5;124m\"\u001b[39m \u001b[38;5;129;01min\u001b[39;00m file:\n\u001b[0;32m----> 6\u001b[0m         attack_models[file] \u001b[38;5;241m=\u001b[39m \u001b[43mNet_attack\u001b[49m(h_neurons\u001b[38;5;241m=\u001b[39m\u001b[38;5;241m64\u001b[39m, do\u001b[38;5;241m=\u001b[39m\u001b[38;5;241m0\u001b[39m, input_size\u001b[38;5;241m=\u001b[39m\u001b[38;5;241m200\u001b[39m)\n\u001b[1;32m      7\u001b[0m         attack_models[file] \u001b[38;5;241m=\u001b[39m torch\u001b[38;5;241m.\u001b[39mload(r\u001b[38;5;241m+\u001b[39m\u001b[38;5;124m'\u001b[39m\u001b[38;5;124m/\u001b[39m\u001b[38;5;124m'\u001b[39m\u001b[38;5;241m+\u001b[39mfile)\n",
      "\u001b[0;31mNameError\u001b[0m: name 'Net_attack' is not defined"
     ]
    }
   ],
   "source": [
    "path = 'mia'\n",
    "attack_models = {}\n",
    "for r,d,f in os.walk(path):\n",
    "    for file in f:\n",
    "        if \"best_mi_model\" in file:\n",
    "            attack_models[file] = Net_attack(h_neurons=64, do=0, input_size=200)\n",
    "            attack_models[file] = torch.load(r+'/'+file)      "
   ]
  },
  {
   "cell_type": "code",
   "execution_count": null,
   "id": "7d19b11f",
   "metadata": {},
   "outputs": [],
   "source": [
    "target_model = model"
   ]
  },
  {
   "cell_type": "code",
   "execution_count": null,
   "id": "0de02514",
   "metadata": {},
   "outputs": [],
   "source": [
    "test_mi_attack(attack_models, target_model, x_target_train, y_target_train, x_target_test, y_target_test)"
   ]
  },
  {
   "cell_type": "code",
   "execution_count": null,
   "id": "6ada3ca5",
   "metadata": {},
   "outputs": [],
   "source": []
  }
 ],
 "metadata": {
  "kernelspec": {
   "display_name": "Python 3 (ipykernel)",
   "language": "python",
   "name": "python3"
  },
  "language_info": {
   "codemirror_mode": {
    "name": "ipython",
    "version": 3
   },
   "file_extension": ".py",
   "mimetype": "text/x-python",
   "name": "python",
   "nbconvert_exporter": "python",
   "pygments_lexer": "ipython3",
   "version": "3.10.6"
  }
 },
 "nbformat": 4,
 "nbformat_minor": 5
}
